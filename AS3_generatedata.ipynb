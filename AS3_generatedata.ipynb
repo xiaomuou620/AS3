{
  "nbformat": 4,
  "nbformat_minor": 0,
  "metadata": {
    "colab": {
      "provenance": [],
      "authorship_tag": "ABX9TyMipsRlgk8BgFtKmgiOnX0P",
      "include_colab_link": true
    },
    "kernelspec": {
      "name": "python3",
      "display_name": "Python 3"
    },
    "language_info": {
      "name": "python"
    }
  },
  "cells": [
    {
      "cell_type": "markdown",
      "metadata": {
        "id": "view-in-github",
        "colab_type": "text"
      },
      "source": [
        "<a href=\"https://colab.research.google.com/github/xiaomuou620/AS3/blob/master/AS3_generatedata.ipynb\" target=\"_parent\"><img src=\"https://colab.research.google.com/assets/colab-badge.svg\" alt=\"Open In Colab\"/></a>"
      ]
    },
    {
      "cell_type": "code",
      "execution_count": null,
      "metadata": {
        "id": "iCs4ufNwE0KR"
      },
      "outputs": [],
      "source": [
        "import random\n",
        "import itertools\n",
        "import numpy as np\n",
        "\n",
        "def generate_positive_sample(n):\n",
        "    \"\"\"Generates a positive sample for the language a^n b^n c^n.\"\"\"\n",
        "    return 'a' * n + 'b' * n + 'c' * n\n",
        "\n",
        "def generate_negative_sample(max_length):\n",
        "    \"\"\"Generates a negative sample which is a random permutation of 'a', 'b', 'c' not conforming to a^n b^n c^n.\"\"\"\n",
        "    while True:\n",
        "        total = random.randint(1, max_length)\n",
        "        a = random.randint(0, total)\n",
        "        b = random.randint(0, total - a)\n",
        "        c = total - (a + b)\n",
        "\n",
        "        sample = 'a' * a + 'b' * b + 'c' * c\n",
        "        # negative_sample = ''.join(random.sample(sample, len(sample))) # random the order of the characters\n",
        "          # if negative_sample != sample:\n",
        "        return sample, total\n",
        "\n",
        "\n",
        "def generate_dataset(num_samples, max_length):\n",
        "    \"\"\"Generates a dataset of positive and negative samples.\"\"\"\n",
        "    encoder = OneHotEncoder(sparse_output=False)\n",
        "    dataset = CustomDataset()\n",
        "\n",
        "    samples = []\n",
        "    labels = []\n",
        "    n = list(range(1,21))\n",
        "    count_n_1 = [0]*21\n",
        "    count_n_0 = [0]*21\n",
        "\n",
        "  # make sure true set and false set have the equal number\n",
        "    for _ in range(num_samples // 2):\n",
        "        n = random.randint(1, max_length // 3)\n",
        "        count_n_1[n*3] += 1\n",
        "        positive_sample = generate_positive_sample(n) # make sure the same length of abc\n",
        "        input_array = np.array(list(positive_sample)).reshape(-1, 1)\n",
        "        positive_tensor = torch.FloatTensor(encoder.fit_transform(input_array))\n",
        "        dataset.append(positive_tensor, torch.tensor(1))\n",
        "\n",
        "\n",
        "        negative_sample, n = generate_negative_sample(max_length)\n",
        "        count_n_0[n] += 1\n",
        "        input_array = np.array(list(negative_sample)).reshape(-1, 1)\n",
        "        negative_tensor = torch.FloatTensor(encoder.fit_transform(input_array))\n",
        "        # if negative_tensor not in dataset:\n",
        "        dataset.append(negative_tensor, torch.tensor(0))\n",
        "\n",
        "\n",
        "    return dataset, count_n_1, count_n_0\n",
        "\n",
        "\n",
        "num_samples = 10000\n",
        "max_length = 20\n",
        "batch_size = 1\n",
        "dataset, count_n_1, count_n_0 = generate_dataset(num_samples, max_length)\n",
        "dataloader = DataLoader(dataset, batch_size=batch_size, shuffle=False)\n"
      ]
    }
  ]
}